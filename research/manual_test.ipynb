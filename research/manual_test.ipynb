{
 "cells": [
  {
   "cell_type": "code",
   "execution_count": 1,
   "metadata": {},
   "outputs": [],
   "source": [
    "URL1 = \"https://www.youtube.com/results?search_query=steve+jobs+speech\""
   ]
  },
  {
   "cell_type": "code",
   "execution_count": 3,
   "metadata": {},
   "outputs": [
    {
     "ename": "IndentationError",
     "evalue": "unindent does not match any outer indentation level (<tokenize>, line 26)",
     "output_type": "error",
     "traceback": [
      "\u001b[1;36m  File \u001b[1;32m<tokenize>:26\u001b[1;36m\u001b[0m\n\u001b[1;33m    except Exception:\u001b[0m\n\u001b[1;37m    ^\u001b[0m\n\u001b[1;31mIndentationError\u001b[0m\u001b[1;31m:\u001b[0m unindent does not match any outer indentation level\n"
     ]
    }
   ],
   "source": [
    "split_val = URL.split(\"=\")\n",
    "        if len(split_val) > 3:\n",
    "            raise InvalidURLException\n",
    "        if \"watch\" in URL:\n",
    "            if \"&t\" in URL:\n",
    "                vid_id, time = split_val[-2][:-2], int(split_val[-1][:-1])\n",
    "                _verify_vid_id_len(vid_id)\n",
    "                logger.info(f\"video starts at: {time}\")\n",
    "                return time\n",
    "            else:\n",
    "                vid_id, time = split_val[-1], 0\n",
    "                _verify_vid_id_len(vid_id)\n",
    "                logger.info(f\"video starts at: {time}\")\n",
    "                return time\n",
    "        else:\n",
    "            if \"=\" in URL and \"?t\" in URL:\n",
    "                vid_id, time = split_val[0].split(\"/\")[-1][:-2], int(split_val[-1])\n",
    "                _verify_vid_id_len(vid_id)\n",
    "                logger.info(f\"video starts at: {time}\")\n",
    "                return time\n",
    "            else:\n",
    "                vid_id, time = URL.split(\"/\")[-1], 0\n",
    "                _verify_vid_id_len(vid_id)\n",
    "                logger.info(f\"video starts at: {time}\")\n",
    "                return time\n",
    "    except Exception:\n",
    "        raise InvalidURLException"
   ]
  },
  {
   "cell_type": "code",
   "execution_count": 2,
   "metadata": {},
   "outputs": [],
   "source": [
    "from IPYNBrenderer.youtube import render_Youtube_video"
   ]
  },
  {
   "cell_type": "code",
   "execution_count": 4,
   "metadata": {},
   "outputs": [],
   "source": [
    "URL1 = \"https://www.youtube.com/watch?v=UF8uR6Z6KLc\""
   ]
  },
  {
   "cell_type": "code",
   "execution_count": 5,
   "metadata": {},
   "outputs": [
    {
     "name": "stdout",
     "output_type": "stream",
     "text": [
      "[2024-04-06 14:22:39,130 : INFO: youtube]: video starts at: 0\n",
      "[2024-04-06 14:22:39,133 : INFO: youtube]: embed_URL : https://www.youtube.com/embed/UF8uR6Z6KLc?si=Bs2t4SuwVd-c1NUb\n"
     ]
    },
    {
     "name": "stderr",
     "output_type": "stream",
     "text": [
      "C:\\Users\\satya\\AppData\\Roaming\\Python\\Python311\\site-packages\\IPython\\core\\display.py:431: UserWarning: Consider using IPython.display.IFrame instead\n",
      "  warnings.warn(\"Consider using IPython.display.IFrame instead\")\n"
     ]
    },
    {
     "data": {
      "text/html": [
       "<iframe width=\"780\" height=\"500\" \n",
       "                                    src=\"https://www.youtube.com/embed/UF8uR6Z6KLc?si=Bs2t4SuwVd-c1NUb\" \n",
       "                                    title=\"YouTube video player\" \n",
       "                                    frameborder=\"0\" allow=\"accelerometer; \n",
       "                                    autoplay; clipboard-write; \n",
       "                                    encrypted-media; gyroscope; picture-in-picture; \n",
       "                                    web-share\" referrerpolicy=\"strict-origin-when-cross-origin\" \n",
       "                                    allowfullscreen></iframe>"
      ],
      "text/plain": [
       "<IPython.core.display.HTML object>"
      ]
     },
     "metadata": {},
     "output_type": "display_data"
    },
    {
     "data": {
      "text/plain": [
       "'successfullly rendered'"
      ]
     },
     "execution_count": 5,
     "metadata": {},
     "output_type": "execute_result"
    }
   ],
   "source": [
    "render_Youtube_video(URL1)"
   ]
  },
  {
   "cell_type": "code",
   "execution_count": 6,
   "metadata": {},
   "outputs": [
    {
     "name": "stdout",
     "output_type": "stream",
     "text": [
      " Volume in drive D is Data\n",
      " Volume Serial Number is FCCD-9655\n",
      "\n",
      " Directory of d:\\Data_Science\\Projects_DS_ML\\IPYNBrenderer\\research\n",
      "\n",
      "05-04-2024  12.36 PM    <DIR>          .\n",
      "05-04-2024  12.36 PM    <DIR>          ..\n",
      "05-04-2024  12.36 PM    <DIR>          logs\n",
      "08-04-2024  11.43 AM             9,454 manual_test.ipynb\n",
      "               1 File(s)          9,454 bytes\n",
      "               3 Dir(s)  1,503,798,611,968 bytes free\n"
     ]
    }
   ],
   "source": [
    "ls"
   ]
  },
  {
   "cell_type": "code",
   "execution_count": 7,
   "metadata": {},
   "outputs": [],
   "source": [
    "import os"
   ]
  },
  {
   "cell_type": "code",
   "execution_count": 9,
   "metadata": {},
   "outputs": [],
   "source": [
    "os.chdir('../')"
   ]
  },
  {
   "cell_type": "code",
   "execution_count": 10,
   "metadata": {},
   "outputs": [
    {
     "name": "stdout",
     "output_type": "stream",
     "text": [
      " Volume in drive D is Data\n",
      " Volume Serial Number is FCCD-9655\n",
      "\n",
      " Directory of d:\\Data_Science\\Projects_DS_ML\\IPYNBrenderer\n",
      "\n",
      "06-04-2024  03.00 PM    <DIR>          .\n",
      "06-04-2024  03.00 PM    <DIR>          ..\n",
      "04-04-2024  06.14 PM    <DIR>          .github\n",
      "04-04-2024  01.57 PM             3,267 .gitignore\n",
      "04-04-2024  11.57 PM    <DIR>          .mypy_cache\n",
      "05-04-2024  12.02 AM    <DIR>          .pytest_cache\n",
      "05-04-2024  01.33 AM    <DIR>          .tox\n",
      "04-04-2024  11.30 PM    <DIR>          env\n",
      "04-04-2024  11.29 PM               269 init_setup.sh\n",
      "04-04-2024  01.57 PM             1,091 LICENSE\n",
      "06-04-2024  03.00 PM    <DIR>          logs\n",
      "04-04-2024  06.51 PM               214 pyproject.toml\n",
      "04-04-2024  12.32 PM                33 README.md\n",
      "04-04-2024  06.21 PM                40 requirements.txt\n",
      "04-04-2024  11.36 PM               117 requirements_dev.txt\n",
      "05-04-2024  12.36 PM    <DIR>          research\n",
      "04-04-2024  06.57 PM               605 setup.cfg\n",
      "04-04-2024  06.46 PM               820 setup.py\n",
      "05-04-2024  11.54 AM    <DIR>          src\n",
      "04-04-2024  06.13 PM             1,267 template.py\n",
      "05-04-2024  12.01 AM    <DIR>          tests\n",
      "04-04-2024  11.52 PM               630 tox.ini\n",
      "              11 File(s)          8,353 bytes\n",
      "              11 Dir(s)  1,503,798,611,968 bytes free\n"
     ]
    }
   ],
   "source": [
    "ls"
   ]
  },
  {
   "cell_type": "code",
   "execution_count": 19,
   "metadata": {},
   "outputs": [],
   "source": [
    "from src.IPYNBrenderer import render_Youtube_video"
   ]
  },
  {
   "cell_type": "code",
   "execution_count": 14,
   "metadata": {},
   "outputs": [],
   "source": [
    "URL1 = \"https://youtu.be/roO5VGxOw2s\"\n",
    "URL2 =  \"https://www.youtube.com/watch?v=roO5VGxOw2s\"\n",
    "URL3 = \"https://www.youtube.com/watch?v=roO5VGxOw2s&t=42s\"\n",
    "    "
   ]
  },
  {
   "cell_type": "code",
   "execution_count": 18,
   "metadata": {},
   "outputs": [
    {
     "name": "stdout",
     "output_type": "stream",
     "text": [
      "[2024-04-08 11:49:37,843 : INFO: youtube]: video starts at: 42\n",
      "[2024-04-08 11:49:37,845 : INFO: youtube]: embed_URL : https://www.youtube.com/embed/roO5VGxOw2s?si=Bs2t4SuwVd-c1NUb\n"
     ]
    },
    {
     "data": {
      "text/html": [
       "<iframe width=\"780\" height=\"500\" \n",
       "                                    src=\"https://www.youtube.com/embed/roO5VGxOw2s?si=Bs2t4SuwVd-c1NUb\" \n",
       "                                    title=\"YouTube video player\" \n",
       "                                    frameborder=\"0\" allow=\"accelerometer; \n",
       "                                    autoplay; clipboard-write; \n",
       "                                    encrypted-media; gyroscope; picture-in-picture; \n",
       "                                    web-share\" referrerpolicy=\"strict-origin-when-cross-origin\" \n",
       "                                    allowfullscreen></iframe>"
      ],
      "text/plain": [
       "<IPython.core.display.HTML object>"
      ]
     },
     "metadata": {},
     "output_type": "display_data"
    },
    {
     "data": {
      "text/plain": [
       "'successfullly rendered'"
      ]
     },
     "execution_count": 18,
     "metadata": {},
     "output_type": "execute_result"
    }
   ],
   "source": [
    "render_Youtube_video(URL3)"
   ]
  },
  {
   "cell_type": "code",
   "execution_count": null,
   "metadata": {},
   "outputs": [],
   "source": []
  }
 ],
 "metadata": {
  "kernelspec": {
   "display_name": "base",
   "language": "python",
   "name": "python3"
  },
  "language_info": {
   "codemirror_mode": {
    "name": "ipython",
    "version": 3
   },
   "file_extension": ".py",
   "mimetype": "text/x-python",
   "name": "python",
   "nbconvert_exporter": "python",
   "pygments_lexer": "ipython3",
   "version": "3.11.5"
  }
 },
 "nbformat": 4,
 "nbformat_minor": 2
}
