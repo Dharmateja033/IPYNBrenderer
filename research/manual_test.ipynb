{
 "cells": [
  {
   "cell_type": "code",
   "execution_count": 1,
   "metadata": {},
   "outputs": [],
   "source": [
    "URL1 = \"https://www.youtube.com/results?search_query=steve+jobs+speech\""
   ]
  },
  {
   "cell_type": "code",
   "execution_count": 3,
   "metadata": {},
   "outputs": [
    {
     "ename": "IndentationError",
     "evalue": "unindent does not match any outer indentation level (<tokenize>, line 26)",
     "output_type": "error",
     "traceback": [
      "\u001b[1;36m  File \u001b[1;32m<tokenize>:26\u001b[1;36m\u001b[0m\n\u001b[1;33m    except Exception:\u001b[0m\n\u001b[1;37m    ^\u001b[0m\n\u001b[1;31mIndentationError\u001b[0m\u001b[1;31m:\u001b[0m unindent does not match any outer indentation level\n"
     ]
    }
   ],
   "source": [
    "split_val = URL.split(\"=\")\n",
    "        if len(split_val) > 3:\n",
    "            raise InvalidURLException\n",
    "        if \"watch\" in URL:\n",
    "            if \"&t\" in URL:\n",
    "                vid_id, time = split_val[-2][:-2], int(split_val[-1][:-1])\n",
    "                _verify_vid_id_len(vid_id)\n",
    "                logger.info(f\"video starts at: {time}\")\n",
    "                return time\n",
    "            else:\n",
    "                vid_id, time = split_val[-1], 0\n",
    "                _verify_vid_id_len(vid_id)\n",
    "                logger.info(f\"video starts at: {time}\")\n",
    "                return time\n",
    "        else:\n",
    "            if \"=\" in URL and \"?t\" in URL:\n",
    "                vid_id, time = split_val[0].split(\"/\")[-1][:-2], int(split_val[-1])\n",
    "                _verify_vid_id_len(vid_id)\n",
    "                logger.info(f\"video starts at: {time}\")\n",
    "                return time\n",
    "            else:\n",
    "                vid_id, time = URL.split(\"/\")[-1], 0\n",
    "                _verify_vid_id_len(vid_id)\n",
    "                logger.info(f\"video starts at: {time}\")\n",
    "                return time\n",
    "    except Exception:\n",
    "        raise InvalidURLException"
   ]
  },
  {
   "cell_type": "code",
   "execution_count": 2,
   "metadata": {},
   "outputs": [],
   "source": [
    "from IPYNBrenderer.youtube import render_Youtube_video"
   ]
  },
  {
   "cell_type": "code",
   "execution_count": 4,
   "metadata": {},
   "outputs": [],
   "source": [
    "URL1 = \"https://www.youtube.com/watch?v=UF8uR6Z6KLc\""
   ]
  },
  {
   "cell_type": "code",
   "execution_count": 5,
   "metadata": {},
   "outputs": [
    {
     "name": "stdout",
     "output_type": "stream",
     "text": [
      "[2024-04-06 14:22:39,130 : INFO: youtube]: video starts at: 0\n",
      "[2024-04-06 14:22:39,133 : INFO: youtube]: embed_URL : https://www.youtube.com/embed/UF8uR6Z6KLc?si=Bs2t4SuwVd-c1NUb\n"
     ]
    },
    {
     "name": "stderr",
     "output_type": "stream",
     "text": [
      "C:\\Users\\satya\\AppData\\Roaming\\Python\\Python311\\site-packages\\IPython\\core\\display.py:431: UserWarning: Consider using IPython.display.IFrame instead\n",
      "  warnings.warn(\"Consider using IPython.display.IFrame instead\")\n"
     ]
    },
    {
     "data": {
      "text/html": [
       "<iframe width=\"780\" height=\"500\" \n",
       "                                    src=\"https://www.youtube.com/embed/UF8uR6Z6KLc?si=Bs2t4SuwVd-c1NUb\" \n",
       "                                    title=\"YouTube video player\" \n",
       "                                    frameborder=\"0\" allow=\"accelerometer; \n",
       "                                    autoplay; clipboard-write; \n",
       "                                    encrypted-media; gyroscope; picture-in-picture; \n",
       "                                    web-share\" referrerpolicy=\"strict-origin-when-cross-origin\" \n",
       "                                    allowfullscreen></iframe>"
      ],
      "text/plain": [
       "<IPython.core.display.HTML object>"
      ]
     },
     "metadata": {},
     "output_type": "display_data"
    },
    {
     "data": {
      "text/plain": [
       "'successfullly rendered'"
      ]
     },
     "execution_count": 5,
     "metadata": {},
     "output_type": "execute_result"
    }
   ],
   "source": [
    "render_Youtube_video(URL1)"
   ]
  },
  {
   "cell_type": "code",
   "execution_count": null,
   "metadata": {},
   "outputs": [],
   "source": [
    "from IPYNBrenderer.youtube import renderer_Youtube_video"
   ]
  },
  {
   "cell_type": "code",
   "execution_count": 5,
   "metadata": {},
   "outputs": [],
   "source": [
    "URL2 = \"https://www.youtube.com/watch?v=UF8uR6Z6KLc\""
   ]
  },
  {
   "cell_type": "code",
   "execution_count": 1,
   "metadata": {},
   "outputs": [
    {
     "ename": "NameError",
     "evalue": "name 'render_Youtube_video' is not defined",
     "output_type": "error",
     "traceback": [
      "\u001b[1;31m---------------------------------------------------------------------------\u001b[0m",
      "\u001b[1;31mNameError\u001b[0m                                 Traceback (most recent call last)",
      "Cell \u001b[1;32mIn[1], line 1\u001b[0m\n\u001b[1;32m----> 1\u001b[0m \u001b[43mrender_Youtube_video\u001b[49m(URL2)\n",
      "\u001b[1;31mNameError\u001b[0m: name 'render_Youtube_video' is not defined"
     ]
    }
   ],
   "source": [
    "render_Youtube_video(URL2)"
   ]
  },
  {
   "cell_type": "code",
   "execution_count": null,
   "metadata": {},
   "outputs": [],
   "source": []
  }
 ],
 "metadata": {
  "kernelspec": {
   "display_name": "base",
   "language": "python",
   "name": "python3"
  },
  "language_info": {
   "codemirror_mode": {
    "name": "ipython",
    "version": 3
   },
   "file_extension": ".py",
   "mimetype": "text/x-python",
   "name": "python",
   "nbconvert_exporter": "python",
   "pygments_lexer": "ipython3",
   "version": "3.11.5"
  }
 },
 "nbformat": 4,
 "nbformat_minor": 2
}
